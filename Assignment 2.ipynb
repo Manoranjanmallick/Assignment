{
 "cells": [
  {
   "cell_type": "code",
   "execution_count": 1,
   "id": "eb7a5591",
   "metadata": {},
   "outputs": [],
   "source": [
    "# 1.What are the two values of the Boolean data type? How do you write them?"
   ]
  },
  {
   "cell_type": "code",
   "execution_count": 2,
   "id": "2eb8db79",
   "metadata": {},
   "outputs": [],
   "source": [
    "# Ans\n",
    "#Two values of Booleon are true and false\n",
    "# it is written as True and False"
   ]
  },
  {
   "cell_type": "code",
   "execution_count": 3,
   "id": "153cde16",
   "metadata": {},
   "outputs": [],
   "source": [
    "# 2. What are the three different types of Boolean operators?"
   ]
  },
  {
   "cell_type": "code",
   "execution_count": 4,
   "id": "1ad2ba2f",
   "metadata": {},
   "outputs": [],
   "source": [
    "# Ans\n",
    "# Or operator\n",
    "# And operator\n",
    "# Not operator"
   ]
  },
  {
   "cell_type": "code",
   "execution_count": 5,
   "id": "fbe67571",
   "metadata": {},
   "outputs": [],
   "source": [
    "# 3. Make a list of each Boolean operator's truth tables (i.e. every possible combination of Boolean values for the operator and what it evaluate )."
   ]
  },
  {
   "cell_type": "code",
   "execution_count": 6,
   "id": "9ba3cfae",
   "metadata": {},
   "outputs": [],
   "source": [
    "#Ans\n",
    "# Or condition                 # And condition\n",
    "# FALSE,FALSE-> FALSE          # FALSE,FALSE-> FALSE\n",
    "# FALSE,TRUTH -> TRUTH         # FALSE,TRUTH -> FALSE\n",
    "# TRUTH,FALSE -> TRUTH         # TRUTH,FALSE -> FALSE\n",
    "# TRUTH,TRUTH -> TRUTH         # TRUTH,TRUTH -> TRUTH"
   ]
  },
  {
   "cell_type": "code",
   "execution_count": 7,
   "id": "ebc8e144",
   "metadata": {},
   "outputs": [],
   "source": [
    "# 4. What are the values of the following expressions?\n",
    "# (5 > 4) and (3 == 5) \n",
    "# not (5 > 4)\n",
    "# (5 > 4) or (3 == 5)\n",
    "# not ((5 > 4) or (3 == 5)) \n",
    "# (True and True) and (True == False) \n",
    "# (not False) or (not True) \n"
   ]
  },
  {
   "cell_type": "code",
   "execution_count": 8,
   "id": "afdbd353",
   "metadata": {},
   "outputs": [],
   "source": [
    "# Ans\n",
    "# (5 > 4) and (3 == 5) = Result: False\n",
    "# not (5 > 4) = Result: False\n",
    "# (5 > 4) or (3 == 5) = Result: True\n",
    "# not ((5 > 4) or (3 == 5)) = Result: False\n",
    "# (True and True) and (True == False) = Result: False\n",
    "# (not False) or (not True) = Result: True"
   ]
  },
  {
   "cell_type": "code",
   "execution_count": 9,
   "id": "3829b98d",
   "metadata": {},
   "outputs": [],
   "source": [
    "# 5. What are the six comparison operators?"
   ]
  },
  {
   "cell_type": "code",
   "execution_count": 10,
   "id": "4c313576",
   "metadata": {},
   "outputs": [],
   "source": [
    "#Ans\n",
    "# < - less than\n",
    "# <= - less than equals to\n",
    "# > - greater than\n",
    "# >= - greater than equals to\n",
    "# == equals to\n",
    "# != not equals to"
   ]
  },
  {
   "cell_type": "code",
   "execution_count": 11,
   "id": "7cbe7b25",
   "metadata": {},
   "outputs": [],
   "source": [
    "# 6. How do you tell the difference between the equal to and assignment operators?Describe a condition and when you would use one."
   ]
  },
  {
   "cell_type": "code",
   "execution_count": 12,
   "id": "9764a811",
   "metadata": {},
   "outputs": [
    {
     "name": "stdout",
     "output_type": "stream",
     "text": [
      "ans\n"
     ]
    }
   ],
   "source": [
    "#Ans \n",
    "#The equal to operator \"==\" is used to compare two values to see if they are equal, while the assignment operator \"=\" is used to assign a value to a variable.\n",
    "a= 4\n",
    "if  a == 4:\n",
    "    print(\"ans\")"
   ]
  },
  {
   "cell_type": "code",
   "execution_count": 13,
   "id": "c111dfcf",
   "metadata": {},
   "outputs": [
    {
     "name": "stdout",
     "output_type": "stream",
     "text": [
      "ham\n",
      "spam\n",
      "spam\n"
     ]
    }
   ],
   "source": [
    "#7. Identify the three blocks in this code:\n",
    "spam = 0\n",
    "if spam == 10:\n",
    "    print('eggs')\n",
    "if spam > 5:\n",
    "    print('bacon')\n",
    "else:\n",
    "    print('ham')\n",
    "    print('spam')\n",
    "    print('spam')\n"
   ]
  },
  {
   "cell_type": "code",
   "execution_count": 14,
   "id": "54f0d630",
   "metadata": {},
   "outputs": [],
   "source": [
    "# Ans\n",
    "# Block 1\n",
    "# spam = 0\n",
    "# if spam == 10:\n",
    "#   print('eggs')\n",
    "# Block 2\n",
    "# if spam > 5:\n",
    "#   print('bacon')\n",
    "# block 3\n",
    "# else:\n",
    "#   print('ham')\n",
    "#   print('spam')\n",
    "#   print('spam')"
   ]
  },
  {
   "cell_type": "code",
   "execution_count": 15,
   "id": "b8c39cbd",
   "metadata": {},
   "outputs": [],
   "source": [
    "# 8. Write code that prints Hello if 1 is stored in spam, prints Howdy if 2 is stored in spam, and prints Greetings! if anything else is stored in spam."
   ]
  },
  {
   "cell_type": "code",
   "execution_count": 16,
   "id": "0b4d2c63",
   "metadata": {},
   "outputs": [
    {
     "name": "stdout",
     "output_type": "stream",
     "text": [
      "14\n",
      "Greetings\n"
     ]
    }
   ],
   "source": [
    "# Ans\n",
    "spam = int(input())\n",
    "if spam == 1:\n",
    "    print(\"Hello\")\n",
    "elif spam == 2:\n",
    "    print(\"howdy\")\n",
    "else :\n",
    "    print(\"Greetings\")"
   ]
  },
  {
   "cell_type": "code",
   "execution_count": 17,
   "id": "d5d61183",
   "metadata": {},
   "outputs": [],
   "source": [
    "# 9.If your programme is stuck in an endless loop, what keys you’ll press?"
   ]
  },
  {
   "cell_type": "code",
   "execution_count": 18,
   "id": "dfe70451",
   "metadata": {},
   "outputs": [],
   "source": [
    "# Ans\n",
    "# Ctrl + C\n",
    "# break"
   ]
  },
  {
   "cell_type": "code",
   "execution_count": 19,
   "id": "a4deb617",
   "metadata": {},
   "outputs": [],
   "source": [
    "# 10. How can you tell the difference between break and continue?"
   ]
  },
  {
   "cell_type": "code",
   "execution_count": 20,
   "id": "80c2ae6f",
   "metadata": {},
   "outputs": [],
   "source": [
    "# Ans\n",
    "# break is used to terminate a loop\n",
    "# continue is used to skip some certain value in a loop"
   ]
  },
  {
   "cell_type": "code",
   "execution_count": 21,
   "id": "78bb83cb",
   "metadata": {},
   "outputs": [],
   "source": [
    "# 11. In a for loop, what is the difference between range(10), range(0, 10), and range(0, 10, 1)?"
   ]
  },
  {
   "cell_type": "code",
   "execution_count": 22,
   "id": "6f6e2723",
   "metadata": {},
   "outputs": [],
   "source": [
    "# Ans\n",
    "# range(10) - it will print in range from 0 to 9th index\n",
    "# range(0, 10) - it will start from 0 and print till 9\n",
    "# range(0, 10, 1) - it will start from 0 and print till 9 with gap of 0 in between"
   ]
  },
  {
   "cell_type": "code",
   "execution_count": 23,
   "id": "f5b4c0a2",
   "metadata": {},
   "outputs": [],
   "source": [
    "# 12. Write a short program that prints the numbers 1 to 10 using a for loop. Then write an equivalent program that prints the numbers 1 to 10 using a while loop."
   ]
  },
  {
   "cell_type": "code",
   "execution_count": 24,
   "id": "22a6a542",
   "metadata": {},
   "outputs": [
    {
     "name": "stdout",
     "output_type": "stream",
     "text": [
      "1\n",
      "2\n",
      "3\n",
      "4\n",
      "5\n",
      "6\n",
      "7\n",
      "8\n",
      "9\n",
      "10\n"
     ]
    }
   ],
   "source": [
    "# Ans\n",
    "for i in range (1, 11):\n",
    "    print (i)"
   ]
  },
  {
   "cell_type": "code",
   "execution_count": 26,
   "id": "a21069f8",
   "metadata": {},
   "outputs": [
    {
     "name": "stdout",
     "output_type": "stream",
     "text": [
      "1\n",
      "2\n",
      "3\n",
      "4\n",
      "5\n",
      "6\n",
      "7\n",
      "8\n",
      "9\n",
      "10\n"
     ]
    }
   ],
   "source": [
    "i = 1\n",
    "while i <= 10:\n",
    "    print(i)\n",
    "    i += 1\n",
    "    \n"
   ]
  },
  {
   "cell_type": "code",
   "execution_count": 29,
   "id": "78da5ea7",
   "metadata": {},
   "outputs": [],
   "source": [
    "# 13. If you had a function named bacon() inside a module named spam, how would you call it after importing spam?"
   ]
  },
  {
   "cell_type": "code",
   "execution_count": 30,
   "id": "5e989467",
   "metadata": {},
   "outputs": [],
   "source": [
    "# Ans\n",
    "#import spam\n",
    "#spam.bacon()"
   ]
  },
  {
   "cell_type": "code",
   "execution_count": null,
   "id": "78f8dfb1",
   "metadata": {},
   "outputs": [],
   "source": []
  }
 ],
 "metadata": {
  "kernelspec": {
   "display_name": "Python 3 (ipykernel)",
   "language": "python",
   "name": "python3"
  },
  "language_info": {
   "codemirror_mode": {
    "name": "ipython",
    "version": 3
   },
   "file_extension": ".py",
   "mimetype": "text/x-python",
   "name": "python",
   "nbconvert_exporter": "python",
   "pygments_lexer": "ipython3",
   "version": "3.9.13"
  }
 },
 "nbformat": 4,
 "nbformat_minor": 5
}
