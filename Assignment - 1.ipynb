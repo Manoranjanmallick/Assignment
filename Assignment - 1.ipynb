{
 "cells": [
  {
   "cell_type": "code",
   "execution_count": 1,
   "id": "5ad57099",
   "metadata": {},
   "outputs": [],
   "source": [
    "#1. In the below elements which of them are values or an expression? eg:- values can be integer or string and expressions will be mathematical operators."
   ]
  },
  {
   "cell_type": "code",
   "execution_count": 2,
   "id": "a1510da1",
   "metadata": {},
   "outputs": [],
   "source": [
    "# *- expression\n",
    "# hello- value\n",
    "# 87.8 - value\n",
    "# / - expression\n",
    "# + - expression\n",
    "# 6 - value"
   ]
  },
  {
   "cell_type": "code",
   "execution_count": 5,
   "id": "c0cda908",
   "metadata": {},
   "outputs": [],
   "source": [
    "# 2. What is the difference between string and variable?\n",
    "# Ans - Variable is name that holds value and it also refers to memory location of that data.\n",
    "#       But string is a data type which only holds characters. It is always uses quotes."
   ]
  },
  {
   "cell_type": "code",
   "execution_count": 6,
   "id": "ef11a86a",
   "metadata": {},
   "outputs": [],
   "source": [
    "# 3. Describe three different data types.\n",
    "# Ans- Integer, String, boolean"
   ]
  },
  {
   "cell_type": "code",
   "execution_count": 7,
   "id": "58164986",
   "metadata": {},
   "outputs": [],
   "source": [
    "# 4. What is an expression made up of? What do all expressions do?\n",
    "# Ans - An expression is combination of values and functions whic will return a value.Expressions decides which operation will be performed first."
   ]
  },
  {
   "cell_type": "code",
   "execution_count": 8,
   "id": "1f5fed67",
   "metadata": {},
   "outputs": [],
   "source": [
    "# 5. This assignment statements, like spam = 10. What is the difference between an expression and a statement?\n",
    "# Ans - An expression is combination of values and functions whic will return a value\n",
    "#       Statement is single line of data that doesn't return anything or interpreted by the compiler to create a new value."
   ]
  },
  {
   "cell_type": "code",
   "execution_count": 11,
   "id": "08bcd643",
   "metadata": {},
   "outputs": [
    {
     "data": {
      "text/plain": [
       "23"
      ]
     },
     "execution_count": 11,
     "metadata": {},
     "output_type": "execute_result"
    }
   ],
   "source": [
    "# 6. After running the following code, what does the variable bacon contain?\n",
    "bacon = 22\n",
    "bacon + 1"
   ]
  },
  {
   "cell_type": "code",
   "execution_count": 13,
   "id": "445d0b22",
   "metadata": {},
   "outputs": [
    {
     "data": {
      "text/plain": [
       "'spamspamspam'"
      ]
     },
     "execution_count": 13,
     "metadata": {},
     "output_type": "execute_result"
    }
   ],
   "source": [
    "# 7. What should the values of the following two terms be?\n",
    "'spam' + 'spamspam'"
   ]
  },
  {
   "cell_type": "code",
   "execution_count": 14,
   "id": "54886615",
   "metadata": {},
   "outputs": [
    {
     "data": {
      "text/plain": [
       "'spamspamspam'"
      ]
     },
     "execution_count": 14,
     "metadata": {},
     "output_type": "execute_result"
    }
   ],
   "source": [
    "'spam' * 3"
   ]
  },
  {
   "cell_type": "code",
   "execution_count": 15,
   "id": "c24ae9e8",
   "metadata": {},
   "outputs": [],
   "source": [
    "# 8. Why is eggs a valid variable name while 100 is invalid?\n",
    "# Ans - eggs is string where 100 is an integer, we cann't create a variable name with integer. variable will always be a string type."
   ]
  },
  {
   "cell_type": "code",
   "execution_count": 16,
   "id": "d09b31bc",
   "metadata": {},
   "outputs": [],
   "source": [
    "# 9. What three functions can be used to get the integer, floating-point number, or string version of a value?\n",
    "# Ans - int(), float(), str()"
   ]
  },
  {
   "cell_type": "code",
   "execution_count": 21,
   "id": "8d4a3e93",
   "metadata": {},
   "outputs": [],
   "source": [
    "# 10. Why does this expression cause an error? How can you fix it?\n",
    "# 'I have eaten ' + 99 + ' burritos.'\n",
    "# Ans - it contains boath string and integer can only concatenate only one data type we need to do typecast."
   ]
  },
  {
   "cell_type": "code",
   "execution_count": 22,
   "id": "32d18e42",
   "metadata": {},
   "outputs": [
    {
     "data": {
      "text/plain": [
       "'I have eaten 99 burritos.'"
      ]
     },
     "execution_count": 22,
     "metadata": {},
     "output_type": "execute_result"
    }
   ],
   "source": [
    "'I have eaten ' + '99' + ' burritos.'"
   ]
  },
  {
   "cell_type": "code",
   "execution_count": null,
   "id": "686d9d1a",
   "metadata": {},
   "outputs": [],
   "source": []
  }
 ],
 "metadata": {
  "kernelspec": {
   "display_name": "Python 3 (ipykernel)",
   "language": "python",
   "name": "python3"
  },
  "language_info": {
   "codemirror_mode": {
    "name": "ipython",
    "version": 3
   },
   "file_extension": ".py",
   "mimetype": "text/x-python",
   "name": "python",
   "nbconvert_exporter": "python",
   "pygments_lexer": "ipython3",
   "version": "3.9.7"
  }
 },
 "nbformat": 4,
 "nbformat_minor": 5
}
